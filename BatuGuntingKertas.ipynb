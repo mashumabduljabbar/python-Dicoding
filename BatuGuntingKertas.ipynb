{
  "nbformat": 4,
  "nbformat_minor": 0,
  "metadata": {
    "colab": {
      "name": "BatuGuntingKertas.ipynb",
      "provenance": [],
      "authorship_tag": "ABX9TyPX3w8UOxRaqNDyq3tHTQ26",
      "include_colab_link": true
    },
    "kernelspec": {
      "name": "python3",
      "display_name": "Python 3"
    },
    "language_info": {
      "name": "python"
    }
  },
  "cells": [
    {
      "cell_type": "markdown",
      "metadata": {
        "id": "view-in-github",
        "colab_type": "text"
      },
      "source": [
        "<a href=\"https://colab.research.google.com/github/mashumabduljabbar/python-Dicoding/blob/master/BatuGuntingKertas.ipynb\" target=\"_parent\"><img src=\"https://colab.research.google.com/assets/colab-badge.svg\" alt=\"Open In Colab\"/></a>"
      ]
    },
    {
      "cell_type": "code",
      "source": [
        "from random import randint\n",
        "def validate(hand):\n",
        "\t\tif hand < 0 or hand > 2:\n",
        "\t\t\treturn False\n",
        "\t\treturn True\n",
        "\n",
        "def print_hand(hand, name='Tamu'):\n",
        "\t\thands = ['Batu', 'Kertas', 'Gunting']\n",
        "\t\tprint(name + ' memilih: ' + hands[hand])\n",
        "\n",
        "def judge(player, computer):\n",
        "\t\tif player == computer:\n",
        "\t\t\treturn 'Seri'\n",
        "\t\telif player == 0 and computer == 1:\n",
        "\t\t\treturn 'Kalah'\n",
        "\t\telif player == 1 and computer == 2:\n",
        "\t\t\treturn 'Kalah'\n",
        "\t\telif player == 2 and computer == 0:\n",
        "\t\t\treturn 'Kalah'\n",
        "\t\telse:\n",
        "\t\t\treturn 'Menang'\n",
        "\n",
        "print('Memulai permainan Batu Kertas Gunting!')\n",
        "player_name = input('Masukkan nama Anda: ')\n",
        "\n",
        "while True:\n",
        "  print('Pilih tangan: (0: Batu, 1: Kertas, 2: Gunting)')\n",
        "  player_hand = int(input('Masukkan nomor (0-2): '))\n",
        "\n",
        "  if validate(player_hand):\n",
        "    computer_hand = randint(0, 2)\n",
        "   \n",
        "    print_hand(player_hand, player_name)\n",
        "    print_hand(computer_hand, 'Komputer')\n",
        "      \n",
        "    result = judge(player_hand, computer_hand)\n",
        "    print('Hasil: '+result)\n",
        "\n",
        "    play_again = input(\"Play again? (y/n): \")\n",
        "    if play_again.lower() != \"y\":\n",
        "      break\n",
        "  else:\n",
        "    print('Mohon masukkan nomor yang benar')"
      ],
      "metadata": {
        "colab": {
          "base_uri": "https://localhost:8080/"
        },
        "id": "WgPjEZB6zxLi",
        "outputId": "89cb3f3c-eadf-44cf-d944-1bf5a7ee5775"
      },
      "execution_count": 14,
      "outputs": [
        {
          "name": "stdout",
          "output_type": "stream",
          "text": [
            "Memulai permainan Batu Kertas Gunting!\n",
            "Masukkan nama Anda: Jabbar\n",
            "Pilih tangan: (0: Batu, 1: Kertas, 2: Gunting)\n",
            "Masukkan nomor (0-2): 2\n",
            "Jabbar memilih: Gunting\n",
            "Komputer memilih: Kertas\n",
            "Hasil: Menang\n",
            "Play again? (y/n): y\n",
            "Pilih tangan: (0: Batu, 1: Kertas, 2: Gunting)\n",
            "Masukkan nomor (0-2): 1\n",
            "Jabbar memilih: Kertas\n",
            "Komputer memilih: Batu\n",
            "Hasil: Menang\n",
            "Play again? (y/n): n\n"
          ]
        }
      ]
    }
  ]
}