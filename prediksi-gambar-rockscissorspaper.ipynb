{
  "nbformat": 4,
  "nbformat_minor": 0,
  "metadata": {
    "colab": {
      "name": "Submission.ipynb",
      "provenance": [],
      "collapsed_sections": [],
      "authorship_tag": "ABX9TyNxiftbibsyD9v7WdFqjebT",
      "include_colab_link": true
    },
    "kernelspec": {
      "name": "python3",
      "display_name": "Python 3"
    }
  },
  "cells": [
    {
      "cell_type": "markdown",
      "metadata": {
        "id": "view-in-github",
        "colab_type": "text"
      },
      "source": [
        "<a href=\"https://colab.research.google.com/github/multimediary/python-Dicoding/blob/master/prediksi-gambar-rockscissorspaper.ipynb\" target=\"_parent\"><img src=\"https://colab.research.google.com/assets/colab-badge.svg\" alt=\"Open In Colab\"/></a>"
      ]
    },
    {
      "cell_type": "code",
      "metadata": {
        "id": "1Ce-ah6MPx5_",
        "colab_type": "code",
        "colab": {}
      },
      "source": [
        "# Kriteria : Program dikerjakan pada Google Colaboratory\n",
        "import tensorflow as tf\n",
        "import zipfile,os\n",
        "import shutil\n",
        "from tensorflow.keras.optimizers import RMSprop\n",
        "from tensorflow.keras.preprocessing.image import ImageDataGenerator\n",
        "import numpy as np\n",
        "from google.colab import files\n",
        "from keras.preprocessing import image\n",
        "import matplotlib.pyplot as plt\n",
        "import matplotlib.image as mpimg\n",
        "import matplotlib.pyplot as plt\n",
        "import matplotlib.image as mpimg"
      ],
      "execution_count": 248,
      "outputs": []
    },
    {
      "cell_type": "code",
      "metadata": {
        "id": "uAUGuPMZuloc",
        "colab_type": "code",
        "colab": {
          "base_uri": "https://localhost:8080/",
          "height": 358
        },
        "outputId": "f13237bb-9c1d-486a-e9a5-b2b01a67bdc9"
      },
      "source": [
        "# Cek folder existing jika ada maka hapus\n",
        "dir_path = '/tmp'\n",
        "if os.path.exists(dir_path):\n",
        "  shutil.rmtree(dir_path)\n",
        "# Lalu buat ulang, hal ini agar jika Runtime All tidak ada kesalahan\n",
        "os.mkdir(dir_path)\n",
        "# Ambil dataset dari repository dan simpan di directory /tmp, Resources dari Dicoding saya download dan saya upload ke dalam Github Repo pribadi saya\n",
        "!wget --no-check-certificate \\\n",
        "  https://github.com/multimediary/dataset/blob/master/rockpaperscissors.zip?raw=true -O /tmp/rockpaperscissors.zip"
      ],
      "execution_count": 249,
      "outputs": [
        {
          "output_type": "stream",
          "text": [
            "--2020-07-21 10:49:39--  https://github.com/multimediary/dataset/blob/master/rockpaperscissors.zip?raw=true\n",
            "Resolving github.com (github.com)... 140.82.114.3\n",
            "Connecting to github.com (github.com)|140.82.114.3|:443... connected.\n",
            "HTTP request sent, awaiting response... 302 Found\n",
            "Location: https://github.com/multimediary/dataset/raw/master/rockpaperscissors.zip [following]\n",
            "--2020-07-21 10:49:39--  https://github.com/multimediary/dataset/raw/master/rockpaperscissors.zip\n",
            "Reusing existing connection to github.com:443.\n",
            "HTTP request sent, awaiting response... 302 Found\n",
            "Location: https://raw.githubusercontent.com/multimediary/dataset/master/rockpaperscissors.zip [following]\n",
            "--2020-07-21 10:49:39--  https://raw.githubusercontent.com/multimediary/dataset/master/rockpaperscissors.zip\n",
            "Resolving raw.githubusercontent.com (raw.githubusercontent.com)... 151.101.0.133, 151.101.64.133, 151.101.128.133, ...\n",
            "Connecting to raw.githubusercontent.com (raw.githubusercontent.com)|151.101.0.133|:443... connected.\n",
            "HTTP request sent, awaiting response... 200 OK\n",
            "Length: 18440894 (18M) [application/zip]\n",
            "Saving to: ‘/tmp/rockpaperscissors.zip’\n",
            "\n",
            "/tmp/rockpapersciss 100%[===================>]  17.59M  39.6MB/s    in 0.4s    \n",
            "\n",
            "2020-07-21 10:49:40 (39.6 MB/s) - ‘/tmp/rockpaperscissors.zip’ saved [18440894/18440894]\n",
            "\n"
          ],
          "name": "stdout"
        }
      ]
    },
    {
      "cell_type": "code",
      "metadata": {
        "id": "yer7jtOhzF1I",
        "colab_type": "code",
        "colab": {
          "base_uri": "https://localhost:8080/",
          "height": 34
        },
        "outputId": "291f2771-1713-4cba-bea3-4392f341c716"
      },
      "source": [
        "# Ekstraksi Dataset\n",
        "local_zip = '/tmp/rockpaperscissors.zip'\n",
        "zip_ref = zipfile.ZipFile(local_zip, 'r')\n",
        "zip_ref.extractall('/tmp')\n",
        "zip_ref.close()\n",
        "\n",
        "# Cek isi directory tmp\n",
        "os.listdir('/tmp')"
      ],
      "execution_count": 250,
      "outputs": [
        {
          "output_type": "execute_result",
          "data": {
            "text/plain": [
              "['scissors', 'paper', 'rock', 'rockpaperscissors.zip']"
            ]
          },
          "metadata": {
            "tags": []
          },
          "execution_count": 250
        }
      ]
    },
    {
      "cell_type": "code",
      "metadata": {
        "id": "wep7o4Ka0auC",
        "colab_type": "code",
        "colab": {}
      },
      "source": [
        "# Kriteria : Dataset harus dibagi menjadi train set dan validation set. # Sehingga Untuk membagi data menjadi train set dan valiadtion set dapat menggunakan sklearn\n",
        "from sklearn.model_selection import train_test_split\n",
        "\n",
        "# define variable lokasi base directory tmp\n",
        "base_directory = '/tmp'\n",
        "\n",
        "# define variable lokasi directory rock\n",
        "rock_directory = os.path.join(base_directory, 'rock')\n",
        "\n",
        "# define variable lokasi directory scissors\n",
        "scissors_directory = os.path.join(base_directory, 'scissors')\n",
        "\n",
        "# define variable lokasi directory paper\n",
        "paper_directory = os.path.join(base_directory, 'paper')\n",
        "\n",
        "# Kriteria : Ukuran validation set harus 40% dari total dataset. (data training memiliki 1314 sampel, dan data validation sebanyak 874 sampel). # test_size dibuat 0.4 (40%)\n",
        "\n",
        "# Memecah data training dan validation rock\n",
        "train_rock_directory, validation_rock_directory = train_test_split(os.listdir(rock_directory), test_size=0.4, random_state=42, shuffle=False)\n",
        "\n",
        "# Memecah data training dan validation scissor\n",
        "train_scissor_directory, validation_scissor_directory = train_test_split(os.listdir(scissors_directory), test_size=0.4, random_state=42, shuffle=False)\n",
        "\n",
        "# Memecah data training dan validation paper\n",
        "train_paper_directory, validation_paper_directory = train_test_split(os.listdir(paper_directory), test_size=0.4, random_state=42, shuffle=False)"
      ],
      "execution_count": 251,
      "outputs": []
    },
    {
      "cell_type": "code",
      "metadata": {
        "id": "GD-gfw_w2-Gn",
        "colab_type": "code",
        "colab": {}
      },
      "source": [
        "# define variable lokasi train directory dan validation directory\n",
        "train_directory = os.path.join(base_directory,'train')\n",
        "validation_directory = os.path.join(base_directory, 'validation')\n",
        "\n",
        "# membuat direktori train dan validation\n",
        "if not os.path.exists(train_directory):\n",
        "  os.mkdir(train_directory)\n",
        "if not os.path.exists(validation_directory):\n",
        "  os.mkdir(validation_directory)\n",
        "\n",
        "# define variable lokasi directory rock, scissor, paper\n",
        "train_rock = os.path.join(train_directory, 'rock')\n",
        "train_scissors = os.path.join(train_directory, 'scissors')\n",
        "train_paper = os.path.join(train_directory, 'paper')\n",
        "validation_rock = os.path.join(validation_directory, 'rock')\n",
        "validation_scissors = os.path.join(validation_directory, 'scissors')\n",
        "validation_paper = os.path.join(validation_directory, 'paper')\n",
        "\n",
        "# membuat directory baru di dalam directory train\n",
        "if not os.path.exists(train_rock):\n",
        "  os.mkdir(train_rock)\n",
        "if not os.path.exists(train_scissors):\n",
        "  os.mkdir(train_scissors)\n",
        "if not os.path.exists(train_paper):\n",
        "  os.mkdir(train_paper)\n",
        "\n",
        "# membuat directory baru di dalam directory validation\n",
        "if not os.path.exists(validation_rock):\n",
        "  os.mkdir(validation_rock)\n",
        "if not os.path.exists(validation_scissors):\n",
        "  os.mkdir(validation_scissors)\n",
        "if not os.path.exists(validation_paper):\n",
        "  os.mkdir(validation_paper)"
      ],
      "execution_count": 252,
      "outputs": []
    },
    {
      "cell_type": "code",
      "metadata": {
        "id": "tbxdLpdlZLES",
        "colab_type": "code",
        "colab": {}
      },
      "source": [
        "# menyalin data train dan data validation ke dalam masing-masing directory baru\n",
        "for i in train_rock_directory:\n",
        "  shutil.copy(os.path.join(rock_directory, i), os.path.join(train_rock, i))\n",
        "for i in train_scissor_directory:\n",
        "  shutil.copy(os.path.join(scissors_directory,i), os.path.join(train_scissors,i))\n",
        "for i in train_paper_directory:\n",
        "  shutil.copy(os.path.join(paper_directory,i), os.path.join(train_paper,i))\n",
        "\n",
        "for i in validation_rock_directory:\n",
        "  shutil.copy(os.path.join(rock_directory, i), os.path.join(validation_rock,i))\n",
        "for i in validation_scissor_directory:\n",
        "  shutil.copy(os.path.join(scissors_directory,i), os.path.join(validation_scissors,i))\n",
        "for i in validation_paper_directory:\n",
        "  shutil.copy(os.path.join(paper_directory,i), os.path.join(validation_paper,i))"
      ],
      "execution_count": 253,
      "outputs": []
    },
    {
      "cell_type": "code",
      "metadata": {
        "id": "R0znO9vX7oUj",
        "colab_type": "code",
        "colab": {}
      },
      "source": [
        "# Kriteria :  Harus mengimplementasikan augmentasi gambar # Kriteria :  Menggunakan image data generator # Pada Image Data Generator ditambahkan paramater agumentasinya\n",
        "train_datagen = ImageDataGenerator(\n",
        "                    rescale=1./255,\n",
        "                    rotation_range=20,\n",
        "                    horizontal_flip=True,\n",
        "                    shear_range = 0.2,\n",
        "                    fill_mode = 'nearest')\n",
        "\n",
        "test_datagen = ImageDataGenerator(\n",
        "                    rescale=1./255,\n",
        "                    rotation_range=20,\n",
        "                    horizontal_flip=True,\n",
        "                    shear_range = 0.2,\n",
        "                    fill_mode = 'nearest')"
      ],
      "execution_count": 254,
      "outputs": []
    },
    {
      "cell_type": "code",
      "metadata": {
        "id": "a557JlVDyoS0",
        "colab_type": "code",
        "colab": {
          "base_uri": "https://localhost:8080/",
          "height": 51
        },
        "outputId": "a7e053b2-7815-4e87-d677-f5c03514de31"
      },
      "source": [
        "train_generator = train_datagen.flow_from_directory(\n",
        "        train_directory,  # direktori data train\n",
        "        target_size=(150, 150), \n",
        "        batch_size=4,\n",
        "        class_mode='categorical') # karena kita merupakan masalah klasifikasi 3 kelas maka menggunakan class_mode = 'categorical'\n",
        "\n",
        "validation_generator = test_datagen.flow_from_directory(\n",
        "        validation_directory, # direktori data validation\n",
        "        target_size=(150, 150), # mengubah resolusi seluruh gambar menjadi 150x150 piksel\n",
        "        batch_size=4, \n",
        "        class_mode='categorical') # karena kita merupakan masalah klasifikasi 3 kelas maka menggunakan class_mode = 'categorical'"
      ],
      "execution_count": 255,
      "outputs": [
        {
          "output_type": "stream",
          "text": [
            "Found 1312 images belonging to 3 classes.\n",
            "Found 876 images belonging to 3 classes.\n"
          ],
          "name": "stdout"
        }
      ]
    },
    {
      "cell_type": "code",
      "metadata": {
        "id": "obZ9uZ-Ym0ah",
        "colab_type": "code",
        "colab": {}
      },
      "source": [
        "# Kriteria : Model harus menggunakan model sequential\n",
        "model_sequential = tf.keras.models.Sequential([\n",
        "  tf.keras.layers.Conv2D(32, (3,3), activation = 'relu', input_shape= (150,150,3)),\n",
        "  tf.keras.layers.MaxPooling2D(2,2),\n",
        "  tf.keras.layers.Conv2D(64,(3,3), activation= 'relu'),\n",
        "  tf.keras.layers.MaxPooling2D(2,2),\n",
        "  tf.keras.layers.Conv2D(128,(3,3), activation= 'relu'),\n",
        "  tf.keras.layers.MaxPooling2D(2,2),\n",
        "  tf.keras.layers.Conv2D(256,(3,3), activation= 'relu'),\n",
        "  tf.keras.layers.MaxPooling2D(2,2),\n",
        "  tf.keras.layers.Flatten(),\n",
        "  tf.keras.layers.Dense(512, activation= 'relu'),\n",
        "  tf.keras.layers.Dense(3, activation= 'softmax') # Activation menggunakan softmax karena terdapat 3 kelas\n",
        "])"
      ],
      "execution_count": 256,
      "outputs": []
    },
    {
      "cell_type": "code",
      "metadata": {
        "id": "Vje1gfFjqG6d",
        "colab_type": "code",
        "colab": {}
      },
      "source": [
        "model_sequential.compile(loss='categorical_crossentropy',\n",
        "              optimizer=tf.optimizers.Adam(),\n",
        "              metrics=['accuracy'])"
      ],
      "execution_count": 257,
      "outputs": []
    },
    {
      "cell_type": "code",
      "metadata": {
        "id": "45l4rDRFqrNO",
        "colab_type": "code",
        "colab": {
          "base_uri": "https://localhost:8080/",
          "height": 716
        },
        "outputId": "898ef651-1736-4cb1-e276-20d961344cd7"
      },
      "source": [
        "# Kriteria : Pelatihan model tidak melebihi waktu 30 menit\n",
        "# Kriteria : Akurasi dari model minimal 85%\n",
        "model_sequential.fit(\n",
        "      train_generator,\n",
        "      steps_per_epoch=25,  # jumlah batch yang dieksekusi pada setiap epoch\n",
        "      epochs=20,\n",
        "      validation_data=validation_generator, # menampilkan akurasi pengujian data validasi\n",
        "      validation_steps=5,  # jumlah batch yang dieksekusi pada setiap epoch\n",
        "      verbose=2)"
      ],
      "execution_count": 258,
      "outputs": [
        {
          "output_type": "stream",
          "text": [
            "Epoch 1/20\n",
            "25/25 - 8s - loss: 1.1769 - accuracy: 0.3500 - val_loss: 1.1183 - val_accuracy: 0.2000\n",
            "Epoch 2/20\n",
            "25/25 - 8s - loss: 1.1076 - accuracy: 0.2500 - val_loss: 1.0998 - val_accuracy: 0.3000\n",
            "Epoch 3/20\n",
            "25/25 - 7s - loss: 1.0988 - accuracy: 0.3600 - val_loss: 1.0919 - val_accuracy: 0.4500\n",
            "Epoch 4/20\n",
            "25/25 - 7s - loss: 1.0986 - accuracy: 0.3600 - val_loss: 1.0786 - val_accuracy: 0.5000\n",
            "Epoch 5/20\n",
            "25/25 - 7s - loss: 1.0990 - accuracy: 0.3100 - val_loss: 1.0798 - val_accuracy: 0.4500\n",
            "Epoch 6/20\n",
            "25/25 - 7s - loss: 1.0815 - accuracy: 0.4100 - val_loss: 0.9646 - val_accuracy: 0.4000\n",
            "Epoch 7/20\n",
            "25/25 - 7s - loss: 1.0325 - accuracy: 0.4600 - val_loss: 1.1321 - val_accuracy: 0.3000\n",
            "Epoch 8/20\n",
            "25/25 - 7s - loss: 0.8479 - accuracy: 0.5600 - val_loss: 0.7989 - val_accuracy: 0.8500\n",
            "Epoch 9/20\n",
            "25/25 - 7s - loss: 0.7346 - accuracy: 0.6600 - val_loss: 1.1144 - val_accuracy: 0.3500\n",
            "Epoch 10/20\n",
            "25/25 - 7s - loss: 0.7104 - accuracy: 0.6800 - val_loss: 0.8513 - val_accuracy: 0.5500\n",
            "Epoch 11/20\n",
            "25/25 - 7s - loss: 0.5076 - accuracy: 0.7900 - val_loss: 0.2636 - val_accuracy: 0.8500\n",
            "Epoch 12/20\n",
            "25/25 - 7s - loss: 0.5486 - accuracy: 0.8200 - val_loss: 0.3761 - val_accuracy: 0.8000\n",
            "Epoch 13/20\n",
            "25/25 - 7s - loss: 0.3907 - accuracy: 0.8600 - val_loss: 0.1926 - val_accuracy: 0.9500\n",
            "Epoch 14/20\n",
            "25/25 - 7s - loss: 0.3912 - accuracy: 0.8400 - val_loss: 0.2860 - val_accuracy: 0.8500\n",
            "Epoch 15/20\n",
            "25/25 - 7s - loss: 0.2604 - accuracy: 0.8800 - val_loss: 0.3306 - val_accuracy: 0.8500\n",
            "Epoch 16/20\n",
            "25/25 - 7s - loss: 0.5298 - accuracy: 0.7900 - val_loss: 0.6708 - val_accuracy: 0.8500\n",
            "Epoch 17/20\n",
            "25/25 - 7s - loss: 0.2700 - accuracy: 0.9100 - val_loss: 0.5345 - val_accuracy: 0.8000\n",
            "Epoch 18/20\n",
            "25/25 - 7s - loss: 0.2194 - accuracy: 0.9500 - val_loss: 0.4522 - val_accuracy: 0.9000\n",
            "Epoch 19/20\n",
            "25/25 - 7s - loss: 0.2480 - accuracy: 0.9000 - val_loss: 0.8784 - val_accuracy: 0.8500\n",
            "Epoch 20/20\n",
            "25/25 - 7s - loss: 0.3500 - accuracy: 0.9100 - val_loss: 0.5193 - val_accuracy: 0.6500\n"
          ],
          "name": "stdout"
        },
        {
          "output_type": "execute_result",
          "data": {
            "text/plain": [
              "<tensorflow.python.keras.callbacks.History at 0x7fd5d7fa3048>"
            ]
          },
          "metadata": {
            "tags": []
          },
          "execution_count": 258
        }
      ]
    },
    {
      "cell_type": "code",
      "metadata": {
        "id": "WKZYsgYXrkj4",
        "colab_type": "code",
        "colab": {
          "resources": {
            "http://localhost:8080/nbextensions/google.colab/files.js": {
              "data": "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",
              "ok": true,
              "headers": [
                [
                  "content-type",
                  "application/javascript"
                ]
              ],
              "status": 200,
              "status_text": ""
            }
          },
          "base_uri": "https://localhost:8080/",
          "height": 358
        },
        "outputId": "0d6a79eb-a62b-4213-a0dd-3fd18611b58f"
      },
      "source": [
        "# Kriteria : Dapat memprediksi gambar yang diunggah ke Colab\n",
        "%matplotlib inline\n",
        "\n",
        "uploaded = files.upload()\n",
        "\n",
        "for fn in uploaded.keys():\n",
        "  path = fn \n",
        "  gambar = image.load_img(path, target_size =(150,150))\n",
        "  imgplot = plt.imshow(gambar)\n",
        "  x = image.img_to_array(gambar)\n",
        "  x = np.expand_dims(x, axis=0)\n",
        "\n",
        "  gambar_prediksi = np.vstack([x])\n",
        "  classes = model_sequential.predict(gambar_prediksi, batch_size=10)\n",
        "\n",
        "  print(fn)\n",
        "  if classes[0,0]!=0:\n",
        "    print('paper')\n",
        "  elif classes[0,1]!=0:\n",
        "    print('rock')\n",
        "  else:\n",
        "    print('scissors')"
      ],
      "execution_count": 262,
      "outputs": [
        {
          "output_type": "display_data",
          "data": {
            "text/html": [
              "\n",
              "     <input type=\"file\" id=\"files-afb82a45-139c-4fe8-84eb-1388af4cd822\" name=\"files[]\" multiple disabled\n",
              "        style=\"border:none\" />\n",
              "     <output id=\"result-afb82a45-139c-4fe8-84eb-1388af4cd822\">\n",
              "      Upload widget is only available when the cell has been executed in the\n",
              "      current browser session. Please rerun this cell to enable.\n",
              "      </output>\n",
              "      <script src=\"/nbextensions/google.colab/files.js\"></script> "
            ],
            "text/plain": [
              "<IPython.core.display.HTML object>"
            ]
          },
          "metadata": {
            "tags": []
          }
        },
        {
          "output_type": "stream",
          "text": [
            "Saving Screenshot_1.jpg to Screenshot_1 (3).jpg\n",
            "Screenshot_1.jpg\n",
            "rock\n"
          ],
          "name": "stdout"
        },
        {
          "output_type": "display_data",
          "data": {
            "image/png": "[encoded data removed]",
            "text/plain": [
              "<Figure size 432x288 with 1 Axes>"
            ]
          },
          "metadata": {
            "tags": [],
            "needs_background": "light"
          }
        }
      ]
    }
  ]
}